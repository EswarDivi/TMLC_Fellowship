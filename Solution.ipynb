{
  "cells": [
    {
      "cell_type": "markdown",
      "metadata": {},
      "source": [
        "Live Demo is Deployed on hugging Face\n",
        "\n",
        "[Click Here](https://huggingface.co/spaces/eswardivi/Bark_Texture_Images_Classification)\n",
        "\n"
      ]
    },
    {
      "cell_type": "markdown",
      "metadata": {},
      "source": [
        "upload kaggle.json to collab and run the following code"
      ]
    },
    {
      "cell_type": "code",
      "execution_count": null,
      "metadata": {
        "colab": {
          "base_uri": "https://localhost:8080/",
          "height": 91
        },
        "id": "bZ2JLsz40Gct",
        "outputId": "6d89022b-715f-4bbd-e3f9-6dd885281e74"
      },
      "outputs": [],
      "source": [
        "from google.colab import files\n",
        "files.upload()"
      ]
    },
    {
      "cell_type": "code",
      "execution_count": 2,
      "metadata": {
        "colab": {
          "base_uri": "https://localhost:8080/"
        },
        "id": "1539cb150I1z",
        "outputId": "b66f86ca-3763-40bf-ce42-4335ac9a4dfd"
      },
      "outputs": [
        {
          "data": {
            "text/plain": []
          },
          "execution_count": 2,
          "metadata": {},
          "output_type": "execute_result"
        }
      ],
      "source": [
        "%%shell\n",
        "rm -rf /root/.kaggle\n",
        "mkdir /root/.kaggle    \n",
        "mv kaggle.json /root/.kaggle/kaggle.json\n",
        "chmod 600 /root/.kaggle/kaggle.json"
      ]
    },
    {
      "cell_type": "code",
      "execution_count": 3,
      "metadata": {
        "colab": {
          "base_uri": "https://localhost:8080/"
        },
        "id": "gPDCD8yk0Lgw",
        "outputId": "ac9fc96e-7a9e-4712-a95f-6c4196d00859"
      },
      "outputs": [
        {
          "name": "stdout",
          "output_type": "stream",
          "text": [
            "Downloading barkvn50.zip to /content\n",
            " 97% 171M/176M [00:06<00:00, 39.0MB/s]\n",
            "100% 176M/176M [00:06<00:00, 29.0MB/s]\n"
          ]
        }
      ],
      "source": [
        "!kaggle datasets download -d saurabhshahane/barkvn50"
      ]
    },
    {
      "cell_type": "code",
      "execution_count": 4,
      "metadata": {
        "id": "krKcRaID0L0p"
      },
      "outputs": [],
      "source": [
        "!unzip -qq /content/barkvn50.zip"
      ]
    },
    {
      "cell_type": "code",
      "execution_count": 5,
      "metadata": {
        "colab": {
          "base_uri": "https://localhost:8080/"
        },
        "id": "qdFxv9h30Nxn",
        "outputId": "5fad3982-4e09-4120-a931-ad9a4a36ee03"
      },
      "outputs": [
        {
          "name": "stdout",
          "output_type": "stream",
          "text": [
            "Looking in indexes: https://pypi.org/simple, https://us-python.pkg.dev/colab-wheels/public/simple/\n",
            "Collecting split-folders[full]\n",
            "  Downloading split_folders-0.5.1-py3-none-any.whl (8.4 kB)\n",
            "Requirement already satisfied: tqdm in /usr/local/lib/python3.7/dist-packages (from split-folders[full]) (4.64.1)\n",
            "Installing collected packages: split-folders\n",
            "Successfully installed split-folders-0.5.1\n"
          ]
        }
      ],
      "source": [
        "!pip install split-folders[full]"
      ]
    },
    {
      "cell_type": "markdown",
      "metadata": {},
      "source": [
        "To Solve this problem \n",
        "1. We will use the [Dataset](https://www.kaggle.com/datasets/saurabhshahane/barkvn50) \n",
        "2. Using pretrained model [VGG16](https://arxiv.org/abs/1409.1556v6) for fine tuning with above dataset"
      ]
    },
    {
      "cell_type": "markdown",
      "metadata": {
        "id": "EzNF-FBgzrQB"
      },
      "source": [
        "Imported Necessary Libraries"
      ]
    },
    {
      "cell_type": "code",
      "execution_count": 6,
      "metadata": {
        "id": "f7ykYs1IzrQC"
      },
      "outputs": [],
      "source": [
        "import tensorflow as tf\n",
        "import numpy as np\n",
        "import splitfolders\n",
        "from tensorflow import keras\n",
        "from tensorflow.keras import layers\n",
        "from tensorflow.keras.utils import image_dataset_from_directory\n"
      ]
    },
    {
      "cell_type": "markdown",
      "metadata": {
        "id": "3SW9YwMyzrQE"
      },
      "source": [
        "About the [Dataset](https://www.kaggle.com/datasets/saurabhshahane/barkvn50)\n",
        "\n",
        "BarkVN-50 consists of 50 categories of bark texture images. \n",
        "\n",
        "Total number is 5,578 images with 303× 404 pixels. \n",
        "\n"
      ]
    },
    {
      "cell_type": "markdown",
      "metadata": {
        "id": "slUJOZd0zrQE"
      },
      "source": [
        "Splitting the Dataset into\n",
        "- Training Set\n",
        "- Test Set\n",
        "- validation Set\n",
        "\n",
        "with 70:20:10 ratio\n"
      ]
    },
    {
      "cell_type": "code",
      "execution_count": 8,
      "metadata": {
        "colab": {
          "base_uri": "https://localhost:8080/"
        },
        "id": "2wNCzS1LzrQE",
        "outputId": "b95e3fd2-a960-4ad0-d685-d6317fe1c302"
      },
      "outputs": [
        {
          "name": "stderr",
          "output_type": "stream",
          "text": [
            "Copying files: 5578 files [00:01, 4260.74 files/s]\n"
          ]
        }
      ],
      "source": [
        "splitfolders.ratio(\"/content/BarkVN-50/BarkVN-50_mendeley\", output=\"/content/Data\", ratio=(.7, .2, .1), group_prefix=None, move=False)"
      ]
    },
    {
      "cell_type": "markdown",
      "metadata": {
        "id": "C4PbVbbVzrQG"
      },
      "source": [
        "Reading the Dataset \n",
        "\n",
        "Resizing the Images to 224x224,as the VGG16 model takes input of 224x224"
      ]
    },
    {
      "cell_type": "code",
      "execution_count": 9,
      "metadata": {
        "colab": {
          "base_uri": "https://localhost:8080/"
        },
        "id": "z5HtsnbjzrQH",
        "outputId": "3dd3fc82-fafc-4b3b-c926-8cb2b5168979"
      },
      "outputs": [
        {
          "name": "stdout",
          "output_type": "stream",
          "text": [
            "Found 3884 files belonging to 50 classes.\n",
            "Found 599 files belonging to 50 classes.\n",
            "Found 1095 files belonging to 50 classes.\n"
          ]
        }
      ],
      "source": [
        "train_dataset=image_dataset_from_directory(\n",
        "    \"/content/Data/train\",\n",
        "    image_size=(224, 224),\n",
        "    batch_size=64\n",
        ")\n",
        "test_dataset=image_dataset_from_directory(\n",
        "    \"/content/Data/test\",\n",
        "    image_size=(224, 224),\n",
        "    batch_size=64\n",
        ")\n",
        "val_dataset=image_dataset_from_directory(\n",
        "    \"/content/Data/val\",\n",
        "    image_size=(224, 224),\n",
        "    batch_size=64\n",
        ")\n"
      ]
    },
    {
      "cell_type": "markdown",
      "metadata": {},
      "source": [
        "Checking the shape of the images and labels\n"
      ]
    },
    {
      "cell_type": "code",
      "execution_count": 10,
      "metadata": {
        "colab": {
          "base_uri": "https://localhost:8080/"
        },
        "id": "EbQ_fZ5rzrQI",
        "outputId": "c225aec2-aba8-4176-c65e-0f73b24e5aa8"
      },
      "outputs": [
        {
          "name": "stdout",
          "output_type": "stream",
          "text": [
            "(64, 224, 224, 3) (64,)\n"
          ]
        }
      ],
      "source": [
        "for data,label in train_dataset:\n",
        "     print(data.shape,label.shape)\n",
        "     break"
      ]
    },
    {
      "cell_type": "markdown",
      "metadata": {
        "id": "MtHO226wzrQI"
      },
      "source": [
        "Ananlyzing the Dataset\n",
        "\n",
        "As we can see from above information,\n",
        "Each image is of size 224x224x3"
      ]
    },
    {
      "cell_type": "markdown",
      "metadata": {
        "id": "NGXSSDWDzrQJ"
      },
      "source": [
        "Using Pretrained Model as Feature Extractor and Builiding a Classifier on top of it"
      ]
    },
    {
      "cell_type": "code",
      "execution_count": 2,
      "metadata": {
        "colab": {
          "base_uri": "https://localhost:8080/"
        },
        "id": "IKaTbTTrzrQJ",
        "outputId": "57ee7c08-8a64-4dc1-fecd-216e0fe41b28"
      },
      "outputs": [],
      "source": [
        "from tensorflow.keras.applications import vgg16\n",
        "import numpy as np\n",
        "conv_base=vgg16.VGG16(weights=\"imagenet\",include_top=False,input_shape=(224,224,3))"
      ]
    },
    {
      "cell_type": "code",
      "execution_count": 3,
      "metadata": {
        "id": "9BzVc4ESzrQK"
      },
      "outputs": [],
      "source": [
        "# Making the layers of VGG16 non-trainable \n",
        "conv_base.trainable=False"
      ]
    },
    {
      "cell_type": "markdown",
      "metadata": {
        "id": "kUmiUEaizrQK"
      },
      "source": [
        "As in **VGG16** there is a Preprocessing step, we need to do the same for our Data"
      ]
    },
    {
      "cell_type": "code",
      "execution_count": 48,
      "metadata": {
        "id": "e-gYM_44zrQK"
      },
      "outputs": [],
      "source": [
        "Input=keras.Input(shape=(224,224,3))\n",
        "# x=layers.Rescaling(1./255)(Input)\n",
        "x=vgg16.preprocess_input(Input)\n",
        "x=conv_base(x)\n",
        "x = layers.Flatten()(x)\n",
        "x = layers.Dense(512,activation=\"tanh\")(x)\n",
        "x = layers.Dense(100,activation=\"tanh\")(x)\n",
        "x = layers.Dropout(0.8)(x)\n",
        "outputs = layers.Dense(50, activation=\"softmax\")(x)\n",
        "model = keras.Model(inputs=Input, outputs=outputs)"
      ]
    },
    {
      "cell_type": "code",
      "execution_count": 49,
      "metadata": {
        "colab": {
          "base_uri": "https://localhost:8080/"
        },
        "id": "g9MAu43YzrQL",
        "outputId": "64fe90fc-55da-4425-cc53-6160d8605672"
      },
      "outputs": [
        {
          "name": "stdout",
          "output_type": "stream",
          "text": [
            "Model: \"model_6\"\n",
            "_________________________________________________________________\n",
            " Layer (type)                Output Shape              Param #   \n",
            "=================================================================\n",
            " input_9 (InputLayer)        [(None, 224, 224, 3)]     0         \n",
            "                                                                 \n",
            " tf.__operators__.getitem_6   (None, 224, 224, 3)      0         \n",
            " (SlicingOpLambda)                                               \n",
            "                                                                 \n",
            " tf.nn.bias_add_6 (TFOpLambd  (None, 224, 224, 3)      0         \n",
            " a)                                                              \n",
            "                                                                 \n",
            " vgg16 (Functional)          (None, 7, 7, 512)         14714688  \n",
            "                                                                 \n",
            " flatten_6 (Flatten)         (None, 25088)             0         \n",
            "                                                                 \n",
            " dense_14 (Dense)            (None, 512)               12845568  \n",
            "                                                                 \n",
            " dense_15 (Dense)            (None, 100)               51300     \n",
            "                                                                 \n",
            " dropout_6 (Dropout)         (None, 100)               0         \n",
            "                                                                 \n",
            " dense_16 (Dense)            (None, 50)                5050      \n",
            "                                                                 \n",
            "=================================================================\n",
            "Total params: 27,616,606\n",
            "Trainable params: 12,901,918\n",
            "Non-trainable params: 14,714,688\n",
            "_________________________________________________________________\n"
          ]
        }
      ],
      "source": [
        "model.summary()"
      ]
    },
    {
      "cell_type": "code",
      "execution_count": 51,
      "metadata": {
        "id": "FJbidjt6zrQL"
      },
      "outputs": [],
      "source": [
        "model.compile(loss=\"sparse_categorical_crossentropy\",optimizer=\"rmsprop\",metrics=['accuracy'])"
      ]
    },
    {
      "cell_type": "code",
      "execution_count": 52,
      "metadata": {
        "colab": {
          "base_uri": "https://localhost:8080/"
        },
        "id": "ki2YFGWPzrQL",
        "outputId": "ea49e59a-0277-4c27-edbb-98c6ea6e4558"
      },
      "outputs": [
        {
          "name": "stdout",
          "output_type": "stream",
          "text": [
            "Epoch 1/50\n",
            "61/61 [==============================] - 29s 444ms/step - loss: 4.0784 - accuracy: 0.0935 - val_loss: 2.9057 - val_accuracy: 0.3379\n",
            "Epoch 2/50\n",
            "61/61 [==============================] - 29s 474ms/step - loss: 3.1805 - accuracy: 0.2124 - val_loss: 2.3434 - val_accuracy: 0.4685\n",
            "Epoch 3/50\n",
            "61/61 [==============================] - 28s 453ms/step - loss: 2.7554 - accuracy: 0.2994 - val_loss: 1.9750 - val_accuracy: 0.6137\n",
            "Epoch 4/50\n",
            "61/61 [==============================] - 28s 450ms/step - loss: 2.3980 - accuracy: 0.3767 - val_loss: 1.7775 - val_accuracy: 0.6292\n",
            "Epoch 5/50\n",
            "61/61 [==============================] - 29s 468ms/step - loss: 2.1062 - accuracy: 0.4436 - val_loss: 1.5155 - val_accuracy: 0.7032\n",
            "Epoch 6/50\n",
            "61/61 [==============================] - 28s 452ms/step - loss: 1.8665 - accuracy: 0.5108 - val_loss: 1.3086 - val_accuracy: 0.7306\n",
            "Epoch 7/50\n",
            "61/61 [==============================] - 28s 450ms/step - loss: 1.7158 - accuracy: 0.5394 - val_loss: 1.2269 - val_accuracy: 0.7324\n",
            "Epoch 8/50\n",
            "61/61 [==============================] - 29s 467ms/step - loss: 1.5191 - accuracy: 0.5940 - val_loss: 1.0862 - val_accuracy: 0.7470\n",
            "Epoch 9/50\n",
            "61/61 [==============================] - 28s 451ms/step - loss: 1.4101 - accuracy: 0.6241 - val_loss: 1.0201 - val_accuracy: 0.7735\n",
            "Epoch 10/50\n",
            "61/61 [==============================] - 29s 462ms/step - loss: 1.3216 - accuracy: 0.6491 - val_loss: 0.9216 - val_accuracy: 0.8128\n",
            "Epoch 11/50\n",
            "61/61 [==============================] - 28s 458ms/step - loss: 1.2371 - accuracy: 0.6735 - val_loss: 0.8963 - val_accuracy: 0.7872\n",
            "Epoch 12/50\n",
            "61/61 [==============================] - 28s 458ms/step - loss: 1.1092 - accuracy: 0.7057 - val_loss: 0.8232 - val_accuracy: 0.8155\n",
            "Epoch 13/50\n",
            "61/61 [==============================] - 28s 452ms/step - loss: 1.0527 - accuracy: 0.7199 - val_loss: 0.7587 - val_accuracy: 0.8237\n",
            "Epoch 14/50\n",
            "61/61 [==============================] - 29s 464ms/step - loss: 0.9475 - accuracy: 0.7510 - val_loss: 0.7482 - val_accuracy: 0.8347\n",
            "Epoch 15/50\n",
            "61/61 [==============================] - 28s 453ms/step - loss: 0.9292 - accuracy: 0.7526 - val_loss: 0.6874 - val_accuracy: 0.8447\n",
            "Epoch 16/50\n",
            "61/61 [==============================] - 28s 455ms/step - loss: 0.8850 - accuracy: 0.7631 - val_loss: 0.6985 - val_accuracy: 0.8374\n",
            "Epoch 17/50\n",
            "61/61 [==============================] - 28s 452ms/step - loss: 0.8213 - accuracy: 0.7886 - val_loss: 0.6543 - val_accuracy: 0.8484\n",
            "Epoch 18/50\n",
            "61/61 [==============================] - 28s 454ms/step - loss: 0.7944 - accuracy: 0.7891 - val_loss: 0.5951 - val_accuracy: 0.8612\n",
            "Epoch 19/50\n",
            "61/61 [==============================] - 29s 461ms/step - loss: 0.7237 - accuracy: 0.8110 - val_loss: 0.5754 - val_accuracy: 0.8612\n",
            "Epoch 20/50\n",
            "61/61 [==============================] - 29s 454ms/step - loss: 0.6764 - accuracy: 0.8249 - val_loss: 0.5616 - val_accuracy: 0.8594\n",
            "Epoch 21/50\n",
            "61/61 [==============================] - 29s 462ms/step - loss: 0.6358 - accuracy: 0.8332 - val_loss: 0.5446 - val_accuracy: 0.8712\n",
            "Epoch 22/50\n",
            "61/61 [==============================] - 28s 452ms/step - loss: 0.6009 - accuracy: 0.8432 - val_loss: 0.5139 - val_accuracy: 0.8795\n",
            "Epoch 23/50\n",
            "61/61 [==============================] - 28s 454ms/step - loss: 0.5572 - accuracy: 0.8610 - val_loss: 0.4840 - val_accuracy: 0.8831\n",
            "Epoch 24/50\n",
            "61/61 [==============================] - 29s 459ms/step - loss: 0.5459 - accuracy: 0.8581 - val_loss: 0.4794 - val_accuracy: 0.8776\n",
            "Epoch 25/50\n",
            "61/61 [==============================] - 28s 454ms/step - loss: 0.4992 - accuracy: 0.8764 - val_loss: 0.4910 - val_accuracy: 0.8767\n",
            "Epoch 26/50\n",
            "61/61 [==============================] - 28s 457ms/step - loss: 0.4802 - accuracy: 0.8756 - val_loss: 0.4615 - val_accuracy: 0.8758\n",
            "Epoch 27/50\n",
            "61/61 [==============================] - 28s 452ms/step - loss: 0.4569 - accuracy: 0.8865 - val_loss: 0.4285 - val_accuracy: 0.8785\n",
            "Epoch 28/50\n",
            "61/61 [==============================] - 28s 450ms/step - loss: 0.4269 - accuracy: 0.8965 - val_loss: 0.4490 - val_accuracy: 0.8895\n",
            "Epoch 29/50\n",
            "61/61 [==============================] - 28s 459ms/step - loss: 0.4353 - accuracy: 0.8921 - val_loss: 0.4202 - val_accuracy: 0.8904\n",
            "Epoch 30/50\n",
            "61/61 [==============================] - 28s 450ms/step - loss: 0.3874 - accuracy: 0.9071 - val_loss: 0.4282 - val_accuracy: 0.8804\n",
            "Epoch 31/50\n",
            "61/61 [==============================] - 29s 467ms/step - loss: 0.3671 - accuracy: 0.9148 - val_loss: 0.4137 - val_accuracy: 0.8895\n",
            "Epoch 32/50\n",
            "61/61 [==============================] - 28s 449ms/step - loss: 0.3527 - accuracy: 0.9132 - val_loss: 0.4065 - val_accuracy: 0.8776\n",
            "Epoch 33/50\n",
            "61/61 [==============================] - 29s 471ms/step - loss: 0.3424 - accuracy: 0.9189 - val_loss: 0.4046 - val_accuracy: 0.8822\n",
            "Epoch 34/50\n",
            "61/61 [==============================] - 28s 452ms/step - loss: 0.3292 - accuracy: 0.9220 - val_loss: 0.3901 - val_accuracy: 0.8868\n",
            "Epoch 35/50\n",
            "61/61 [==============================] - 28s 455ms/step - loss: 0.3312 - accuracy: 0.9181 - val_loss: 0.4129 - val_accuracy: 0.8868\n",
            "Epoch 36/50\n",
            "61/61 [==============================] - 28s 454ms/step - loss: 0.2874 - accuracy: 0.9377 - val_loss: 0.3665 - val_accuracy: 0.8968\n",
            "Epoch 37/50\n",
            "61/61 [==============================] - 28s 443ms/step - loss: 0.2759 - accuracy: 0.9385 - val_loss: 0.3665 - val_accuracy: 0.8986\n",
            "Epoch 38/50\n",
            "61/61 [==============================] - 29s 463ms/step - loss: 0.2841 - accuracy: 0.9323 - val_loss: 0.3802 - val_accuracy: 0.8858\n",
            "Epoch 39/50\n",
            "61/61 [==============================] - 28s 442ms/step - loss: 0.2638 - accuracy: 0.9369 - val_loss: 0.3538 - val_accuracy: 0.9050\n",
            "Epoch 40/50\n",
            "61/61 [==============================] - 29s 465ms/step - loss: 0.2438 - accuracy: 0.9475 - val_loss: 0.3527 - val_accuracy: 0.9059\n",
            "Epoch 41/50\n",
            "61/61 [==============================] - 29s 467ms/step - loss: 0.2427 - accuracy: 0.9467 - val_loss: 0.3507 - val_accuracy: 0.9059\n",
            "Epoch 42/50\n",
            "61/61 [==============================] - 28s 451ms/step - loss: 0.2265 - accuracy: 0.9501 - val_loss: 0.3818 - val_accuracy: 0.8941\n",
            "Epoch 43/50\n",
            "61/61 [==============================] - 29s 460ms/step - loss: 0.2243 - accuracy: 0.9480 - val_loss: 0.3548 - val_accuracy: 0.8950\n",
            "Epoch 44/50\n",
            "61/61 [==============================] - 29s 457ms/step - loss: 0.1932 - accuracy: 0.9619 - val_loss: 0.3430 - val_accuracy: 0.9050\n",
            "Epoch 45/50\n",
            "61/61 [==============================] - 28s 450ms/step - loss: 0.2058 - accuracy: 0.9529 - val_loss: 0.3768 - val_accuracy: 0.8913\n",
            "Epoch 46/50\n",
            "61/61 [==============================] - 28s 454ms/step - loss: 0.1956 - accuracy: 0.9560 - val_loss: 0.3573 - val_accuracy: 0.8959\n",
            "Epoch 47/50\n",
            "61/61 [==============================] - 28s 449ms/step - loss: 0.1983 - accuracy: 0.9560 - val_loss: 0.3634 - val_accuracy: 0.9078\n",
            "Epoch 48/50\n",
            "61/61 [==============================] - 29s 459ms/step - loss: 0.1763 - accuracy: 0.9637 - val_loss: 0.3387 - val_accuracy: 0.9096\n",
            "Epoch 49/50\n",
            "61/61 [==============================] - 28s 452ms/step - loss: 0.1902 - accuracy: 0.9591 - val_loss: 0.3446 - val_accuracy: 0.9014\n",
            "Epoch 50/50\n",
            "61/61 [==============================] - 28s 442ms/step - loss: 0.1587 - accuracy: 0.9676 - val_loss: 0.3654 - val_accuracy: 0.9005\n"
          ]
        }
      ],
      "source": [
        "callbacks = [\n",
        "    keras.callbacks.ModelCheckpoint(\n",
        "        filepath=\"best.keras\",\n",
        "        save_best_only=True,\n",
        "        monitor=\"val_loss\")\n",
        "]\n",
        "history = model.fit(\n",
        "    train_dataset,\n",
        "    epochs=50,\n",
        "    validation_data=val_dataset,\n",
        "    callbacks=callbacks)"
      ]
    },
    {
      "cell_type": "code",
      "execution_count": 63,
      "metadata": {
        "colab": {
          "base_uri": "https://localhost:8080/"
        },
        "id": "GNHWl2GzzrQM",
        "outputId": "c614f59b-4e12-458d-ff04-8094da62d7bf"
      },
      "outputs": [
        {
          "name": "stdout",
          "output_type": "stream",
          "text": [
            "10/10 [==============================] - 4s 273ms/step - loss: 0.2766 - accuracy: 0.9132\n",
            "0.913188636302948\n"
          ]
        }
      ],
      "source": [
        "model_save=keras.models.load_model(\"best.keras\")\n",
        "test_loss,test_acc=model_save.evaluate(test_dataset)\n",
        "print(test_acc)"
      ]
    },
    {
      "cell_type": "code",
      "execution_count": 61,
      "metadata": {
        "colab": {
          "base_uri": "https://localhost:8080/",
          "height": 298
        },
        "id": "KWCj9cJzzrQN",
        "outputId": "5ab483ea-fb24-497c-f0d8-d2ca5b4aab57"
      },
      "outputs": [
        {
          "data": {
            "text/plain": [
              "<matplotlib.legend.Legend at 0x7f1b58179610>"
            ]
          },
          "execution_count": 61,
          "metadata": {},
          "output_type": "execute_result"
        },
        {
          "data": {
            "image/png": "[encoded data removed]",
            "text/plain": [
              "<Figure size 432x288 with 1 Axes>"
            ]
          },
          "metadata": {
            "needs_background": "light"
          },
          "output_type": "display_data"
        }
      ],
      "source": [
        "import matplotlib.pyplot as plt\n",
        "acc = history.history[\"accuracy\"]\n",
        "val_acc = history.history[\"val_accuracy\"]\n",
        "loss = history.history[\"loss\"]\n",
        "val_loss = history.history[\"val_loss\"]\n",
        "epochs = range(1, len(acc) + 1)\n",
        "plt.plot(epochs, acc, \"bo\", label=\"Training accuracy\")\n",
        "plt.plot(epochs, val_acc, \"b\", label=\"Validation accuracy\")\n",
        "plt.title(\"Training and validation accuracy\")\n",
        "plt.legend()"
      ]
    },
    {
      "cell_type": "code",
      "execution_count": 62,
      "metadata": {
        "colab": {
          "base_uri": "https://localhost:8080/",
          "height": 298
        },
        "id": "W2gnPhhTzrQN",
        "outputId": "6f3b8439-de28-4205-817f-4f0054cb3c3f"
      },
      "outputs": [
        {
          "data": {
            "text/plain": [
              "<matplotlib.legend.Legend at 0x7f1ab340b050>"
            ]
          },
          "execution_count": 62,
          "metadata": {},
          "output_type": "execute_result"
        },
        {
          "data": {
            "image/png": "[encoded data removed]",
            "text/plain": [
              "<Figure size 432x288 with 1 Axes>"
            ]
          },
          "metadata": {
            "needs_background": "light"
          },
          "output_type": "display_data"
        }
      ],
      "source": [
        "epochs = range(1, len(acc) + 1)\n",
        "plt.plot(epochs, loss, \"bo\", label=\"Training loss\")\n",
        "plt.plot(epochs, val_loss, \"b\", label=\"Validation loss\")\n",
        "plt.title(\"Training and validation loss\")\n",
        "plt.legend()"
      ]
    }
  ],
  "metadata": {
    "accelerator": "GPU",
    "colab": {
      "provenance": []
    },
    "kernelspec": {
      "display_name": "Python 3.9.12 ('base')",
      "language": "python",
      "name": "python3"
    },
    "language_info": {
      "codemirror_mode": {
        "name": "ipython",
        "version": 3
      },
      "file_extension": ".py",
      "mimetype": "text/x-python",
      "name": "python",
      "nbconvert_exporter": "python",
      "pygments_lexer": "ipython3",
      "version": "3.9.12"
    },
    "orig_nbformat": 4,
    "vscode": {
      "interpreter": {
        "hash": "705e98641d7b807946ceb9bc0ba84bf1495564670921a4583c763445c1b9a1dd"
      }
    }
  },
  "nbformat": 4,
  "nbformat_minor": 0
}
